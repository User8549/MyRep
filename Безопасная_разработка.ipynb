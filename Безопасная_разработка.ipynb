{
  "nbformat": 4,
  "nbformat_minor": 0,
  "metadata": {
    "colab": {
      "provenance": [],
      "authorship_tag": "ABX9TyMvSbAaeVltTbZXOhsJWUAd",
      "include_colab_link": true
    },
    "kernelspec": {
      "name": "python3",
      "display_name": "Python 3"
    },
    "language_info": {
      "name": "python"
    },
    "accelerator": "GPU",
    "gpuClass": "standard"
  },
  "cells": [
    {
      "cell_type": "markdown",
      "metadata": {
        "id": "view-in-github",
        "colab_type": "text"
      },
      "source": [
        "<a href=\"https://colab.research.google.com/github/User8549/MyRep/blob/main/%D0%91%D0%B5%D0%B7%D0%BE%D0%BF%D0%B0%D1%81%D0%BD%D0%B0%D1%8F_%D1%80%D0%B0%D0%B7%D1%80%D0%B0%D0%B1%D0%BE%D1%82%D0%BA%D0%B0.ipynb\" target=\"_parent\"><img src=\"https://colab.research.google.com/assets/colab-badge.svg\" alt=\"Open In Colab\"/></a>"
      ]
    },
    {
      "cell_type": "code",
      "execution_count": null,
      "metadata": {
        "id": "Xu-XOCJYT3Zr"
      },
      "outputs": [],
      "source": [
        "!pip install git+https://github.com/andreinechaev/nvcc4jupyter.git"
      ]
    },
    {
      "cell_type": "code",
      "source": [
        "%load_ext nvcc_plugin"
      ],
      "metadata": {
        "id": "L972RYj7T6vW"
      },
      "execution_count": null,
      "outputs": []
    },
    {
      "cell_type": "markdown",
      "source": [
        "Пример запуска"
      ],
      "metadata": {
        "id": "R1Ak6yAKVjXX"
      }
    },
    {
      "cell_type": "code",
      "source": [
        "%%cu\n",
        "#include <iostream>\n",
        "\n",
        "__global__ void gpu_f()\n",
        "{\n",
        "    printf(\"hello \\n\");\n",
        "}\n",
        "\n",
        "int main()\n",
        "{\n",
        "    cudaDeviceProp dev{};\n",
        "    cudaGetDeviceProperties(&dev, 0);\n",
        "    std::cout << \"Multiprocessors in device = \" << dev.multiProcessorCount << std::endl;\n",
        "    gpu_f<<<dev.multiProcessorCount, 10>>>();\n",
        "    cudaDeviceSynchronize();\n",
        "    return 0;\n",
        "}"
      ],
      "metadata": {
        "id": "rYah2c71Vhb7"
      },
      "execution_count": null,
      "outputs": []
    },
    {
      "cell_type": "markdown",
      "source": [
        "Задание 1\n",
        "написать программу которая с видеокарты пишет сообщение вида \"Hello from a thread b block\", где a и b номера нити и блока соответственно"
      ],
      "metadata": {
        "id": "tZJ721cvUkXG"
      }
    },
    {
      "cell_type": "code",
      "source": [
        "%%cu\n",
        "#include <iostream>\n",
        "\n",
        "__global__ void gpu_f()\n",
        "{\n",
        "    printf(\"Hello from block: %d, thread: %d\\n\",blockIdx.x,threadIdx.x);\n",
        "}\n",
        "\n",
        "int main()\n",
        "{\n",
        "    gpu_f<<<5, 3>>>();\n",
        "    cudaDeviceSynchronize();\n",
        "    return 0;\n",
        "}"
      ],
      "metadata": {
        "id": "VjWKrsjuT9Ml"
      },
      "execution_count": null,
      "outputs": []
    },
    {
      "cell_type": "markdown",
      "source": [
        "заданиие 2: \n",
        "умножение матриц"
      ],
      "metadata": {
        "id": "YtbyNefBVYgI"
      }
    },
    {
      "cell_type": "code",
      "source": [
        "%%cu\n",
        "#include <iostream>\n",
        "\n",
        "__global__ void dev(int* mass1, int* mass2, int* mass3, int n, int m)\n",
        "{\n",
        "    int x = threadIdx.x + blockIdx.x * blockDim.x;\n",
        "    if(x < (n * n)){\n",
        "        int mm = (int)(x / n);\n",
        "        int nn = (int)(x % n);\n",
        "        mass3[x] = 0;\n",
        "        for(auto j = 0; j < m; j++){\n",
        "            mass3[x] += mass1[j + m * mm] * mass2[j * n + nn];  \n",
        "        }\n",
        "        printf (\"x = %d, dev = %d \\n\", x,mass3[x]);\n",
        "    }\n",
        "}\n",
        "\n",
        "void create(int* mass, int n, int m)\n",
        "{\n",
        "    for(auto i = 0; i < n; i++){\n",
        "        for(auto j = 0; j < m; j++)\n",
        "        {\n",
        "            mass[i * m + j] = rand() % 21 - 10;\n",
        "        }\n",
        "    }\n",
        "}\n",
        "void show(int* mass, int n, int m)\n",
        "{\n",
        "    for(auto i = 0; i < n; i++)\n",
        "    {\n",
        "        for (auto j = 0; j < m; j++)\n",
        "        {\n",
        "            std::cout << mass[i * m + j] << \" \";\n",
        "        }\n",
        "        std::cout << \"\\n\";\n",
        "    }\n",
        "    std::cout << \"\\n\";\n",
        "}\n",
        "\n",
        "int main()\n",
        "{\n",
        "    int *a, *b, *c;\n",
        "\n",
        "    int n = 2; int x = 4; //строки\n",
        "    int m = 4; int y = 2; //столбцы\n",
        "    \n",
        "    if (m != x) {\n",
        "      printf(\"ERROR SIZE\");\n",
        "      return 0;\n",
        "    }\n",
        " \n",
        "    cudaMallocManaged(&a,n * m * sizeof(int));\n",
        "    cudaMallocManaged(&b,x * y * sizeof(int));\n",
        "    cudaMallocManaged(&c,n * y * sizeof(int));\n",
        " \n",
        "    create(a, n, m);\n",
        "    create(b, x, y);\n",
        " \n",
        "    show(a, n, m);\n",
        "    show(b, x, y);\n",
        " \n",
        "    dev<<<n, m>>>(a, b, c, n, m);\n",
        "    cudaDeviceSynchronize();\n",
        "    \n",
        "    std::cout << \"\\n\";\n",
        "    show(c, n, y);\n",
        "    cudaFree (a);\n",
        "    cudaFree (b);\n",
        "    cudaFree (c);\n",
        "    return 0;\n",
        "}\n"
      ],
      "metadata": {
        "id": "AA3MZza0aG8X"
      },
      "execution_count": null,
      "outputs": []
    },
    {
      "cell_type": "markdown",
      "source": [
        "Задание 3: параллельно отсортировать одномерный массив"
      ],
      "metadata": {
        "id": "90F-B5oN4l9U"
      }
    },
    {
      "cell_type": "code",
      "source": [
        "%%cu\n",
        "#include <iostream>\n",
        "\n",
        "__global__ void sort(int *arr, int n)\n",
        "{\n",
        "    auto x = threadIdx.x + blockIdx.x * blockDim.x; //нить\n",
        "\n",
        "    for (int i = 0; i < n / 2; i++){\n",
        "        if (x % 2 == 0 && (x + 1) < n && x < n){ // чет\n",
        "            if(arr[x] > arr[x + 1]){\n",
        "                int temp = arr[x];\n",
        "                arr[x] = arr[x+1];\n",
        "                arr[x+1] = temp;\n",
        "            }\n",
        "        }\n",
        "        __syncthreads(); //потоки\n",
        "        __threadfence(); //блоки\n",
        "        if(x % 2 != 0 && (x + 1) < n && x < n) { // нечет\n",
        "            if(arr[x] > arr[x + 1]){\n",
        "                int temp = arr[x];\n",
        "                arr[x] = arr[x+1];\n",
        "                arr[x+1] = temp;\n",
        "            }\n",
        "        }\n",
        "        __syncthreads(); //потоки\n",
        "        __threadfence(); //блоки\n",
        "    }\n",
        "}\n",
        "\n",
        "void create(int* mass, int n)\n",
        "{\n",
        "    for(auto i = 0; i < n; i++)\n",
        "            mass[i] = rand()%50;\n",
        "}\n",
        "\n",
        "void show(int* mass, int n)\n",
        "{\n",
        "    for (auto i = 0; i < n; i++)\n",
        "    {\n",
        "        std::cout << mass[i] << \" \";\n",
        "    }\n",
        "    std::cout << \"\\n\";\n",
        "}\n",
        "\n",
        "int main()\n",
        "{\n",
        "    int *a;\n",
        "    int n = 15;\n",
        "    cudaMallocManaged(&a,n * sizeof(int));\n",
        "    create(a, n);\n",
        "    show(a, n);\n",
        "    sort<<<5, 5>>>(a, n);\n",
        "    cudaDeviceSynchronize();\n",
        "    show(a, n);\n",
        "    return 0;\n",
        "}\n"
      ],
      "metadata": {
        "id": "XaMUQNWT4mpr",
        "colab": {
          "base_uri": "https://localhost:8080/"
        },
        "outputId": "f209625a-2eb6-4529-d155-cbd0d19a56e7"
      },
      "execution_count": 160,
      "outputs": [
        {
          "output_type": "stream",
          "name": "stdout",
          "text": [
            "33 36 27 15 43 35 36 42 49 21 12 27 40 9 13 \n",
            "9 12 13 15 21 27 27 33 35 36 36 40 42 43 49 \n",
            "\n"
          ]
        }
      ]
    }
  ]
}