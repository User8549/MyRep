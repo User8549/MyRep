{
  "nbformat": 4,
  "nbformat_minor": 0,
  "metadata": {
    "colab": {
      "provenance": [],
      "authorship_tag": "ABX9TyNzFRdTSvMu3URkEe0niIdV",
      "include_colab_link": true
    },
    "kernelspec": {
      "name": "python3",
      "display_name": "Python 3"
    },
    "language_info": {
      "name": "python"
    },
    "accelerator": "GPU",
    "gpuClass": "standard"
  },
  "cells": [
    {
      "cell_type": "markdown",
      "metadata": {
        "id": "view-in-github",
        "colab_type": "text"
      },
      "source": [
        "<a href=\"https://colab.research.google.com/github/User8549/MyRep/blob/main/%D0%91%D0%B5%D0%B7%D0%BE%D0%BF%D0%B0%D1%81%D0%BD%D0%B0%D1%8F_%D1%80%D0%B0%D0%B7%D1%80%D0%B0%D0%B1%D0%BE%D1%82%D0%BA%D0%B0.ipynb\" target=\"_parent\"><img src=\"https://colab.research.google.com/assets/colab-badge.svg\" alt=\"Open In Colab\"/></a>"
      ]
    },
    {
      "cell_type": "code",
      "execution_count": 1,
      "metadata": {
        "id": "Xu-XOCJYT3Zr",
        "colab": {
          "base_uri": "https://localhost:8080/"
        },
        "outputId": "cb380f61-b95e-4add-b015-3f721b9d15af"
      },
      "outputs": [
        {
          "output_type": "stream",
          "name": "stdout",
          "text": [
            "Looking in indexes: https://pypi.org/simple, https://us-python.pkg.dev/colab-wheels/public/simple/\n",
            "Collecting git+https://github.com/andreinechaev/nvcc4jupyter.git\n",
            "  Cloning https://github.com/andreinechaev/nvcc4jupyter.git to /tmp/pip-req-build-8mkczzih\n",
            "  Running command git clone --filter=blob:none --quiet https://github.com/andreinechaev/nvcc4jupyter.git /tmp/pip-req-build-8mkczzih\n",
            "  Resolved https://github.com/andreinechaev/nvcc4jupyter.git to commit aac710a35f52bb78ab34d2e52517237941399eff\n",
            "  Preparing metadata (setup.py) ... \u001b[?25l\u001b[?25hdone\n",
            "Building wheels for collected packages: NVCCPlugin\n",
            "  Building wheel for NVCCPlugin (setup.py) ... \u001b[?25l\u001b[?25hdone\n",
            "  Created wheel for NVCCPlugin: filename=NVCCPlugin-0.0.2-py3-none-any.whl size=4304 sha256=2c7636aecffec320d7983a5fa5dfbb7036b3875c08d937fdd93ef6d6b296944a\n",
            "  Stored in directory: /tmp/pip-ephem-wheel-cache-d4p2biib/wheels/f3/08/cc/e2b5b0e1c92df07dbb50a6f024a68ce090f5e7b2316b41756d\n",
            "Successfully built NVCCPlugin\n",
            "Installing collected packages: NVCCPlugin\n",
            "Successfully installed NVCCPlugin-0.0.2\n"
          ]
        }
      ],
      "source": [
        "!pip install git+https://github.com/andreinechaev/nvcc4jupyter.git"
      ]
    },
    {
      "cell_type": "code",
      "source": [
        "%load_ext nvcc_plugin"
      ],
      "metadata": {
        "id": "L972RYj7T6vW",
        "colab": {
          "base_uri": "https://localhost:8080/"
        },
        "outputId": "1e5594b4-5450-4f77-8cce-f077f489e68e"
      },
      "execution_count": 2,
      "outputs": [
        {
          "output_type": "stream",
          "name": "stdout",
          "text": [
            "created output directory at /content/src\n",
            "Out bin /content/result.out\n"
          ]
        }
      ]
    },
    {
      "cell_type": "markdown",
      "source": [
        "Пример запуска"
      ],
      "metadata": {
        "id": "R1Ak6yAKVjXX"
      }
    },
    {
      "cell_type": "code",
      "source": [
        "%%cu\n",
        "#include <iostream>\n",
        "\n",
        "__global__ void gpu_f()\n",
        "{\n",
        "    printf(\"hello \\n\");\n",
        "}\n",
        "\n",
        "int main()\n",
        "{\n",
        "    cudaDeviceProp dev{};\n",
        "    cudaGetDeviceProperties(&dev, 0);\n",
        "    std::cout << \"Multiprocessors in device = \" << dev.multiProcessorCount << std::endl;\n",
        "    gpu_f<<<dev.multiProcessorCount, 10>>>();\n",
        "    cudaDeviceSynchronize();\n",
        "    return 0;\n",
        "}"
      ],
      "metadata": {
        "id": "rYah2c71Vhb7"
      },
      "execution_count": null,
      "outputs": []
    },
    {
      "cell_type": "markdown",
      "source": [
        "Задание 1\n",
        "написать программу которая с видеокарты пишет сообщение вида \"Hello from a thread b block\", где a и b номера нити и блока соответственно"
      ],
      "metadata": {
        "id": "tZJ721cvUkXG"
      }
    },
    {
      "cell_type": "code",
      "source": [
        "%%cu\n",
        "#include <iostream>\n",
        "\n",
        "__global__ void gpu_f()\n",
        "{\n",
        "    printf(\"Hello from block: %d, thread: %d\\n\",blockIdx.x,threadIdx.x);\n",
        "}\n",
        "\n",
        "int main()\n",
        "{\n",
        "    gpu_f<<<5, 3>>>();\n",
        "    cudaDeviceSynchronize();\n",
        "    return 0;\n",
        "}"
      ],
      "metadata": {
        "colab": {
          "base_uri": "https://localhost:8080/"
        },
        "id": "VjWKrsjuT9Ml",
        "outputId": "2157315c-9a61-45cf-c888-aba9ce7b176e"
      },
      "execution_count": 3,
      "outputs": [
        {
          "output_type": "stream",
          "name": "stdout",
          "text": [
            "Hello from block: 2, thread: 0\n",
            "Hello from block: 2, thread: 1\n",
            "Hello from block: 2, thread: 2\n",
            "Hello from block: 4, thread: 0\n",
            "Hello from block: 4, thread: 1\n",
            "Hello from block: 4, thread: 2\n",
            "Hello from block: 0, thread: 0\n",
            "Hello from block: 0, thread: 1\n",
            "Hello from block: 0, thread: 2\n",
            "Hello from block: 3, thread: 0\n",
            "Hello from block: 3, thread: 1\n",
            "Hello from block: 3, thread: 2\n",
            "Hello from block: 1, thread: 0\n",
            "Hello from block: 1, thread: 1\n",
            "Hello from block: 1, thread: 2\n",
            "\n"
          ]
        }
      ]
    },
    {
      "cell_type": "markdown",
      "source": [
        "заданиие 2: \n",
        "умножение матриц"
      ],
      "metadata": {
        "id": "YtbyNefBVYgI"
      }
    },
    {
      "cell_type": "code",
      "source": [
        "%%cu\n",
        "#include <iostream>\n",
        "\n",
        "__global__ void dev(int* mass1, int* mass2, int* mass3, int n, int m)\n",
        "{\n",
        "    int x = threadIdx.x + blockIdx.x * blockDim.x;\n",
        "    if(x < (n * n)){\n",
        "        int mm = (int)(x / n);\n",
        "        int nn = (int)(x % n);\n",
        "        mass3[x] = 0;\n",
        "        for(auto j = 0; j < m; j++){\n",
        "            mass3[x] += mass1[j + m * mm] * mass2[j * n + nn];  \n",
        "        }\n",
        "        printf (\"x = %d, dev = %d \\n\", x,mass3[x]);\n",
        "    }\n",
        "}\n",
        "\n",
        "void create(int* mass, int n, int m)\n",
        "{\n",
        "    for(auto i = 0; i < n; i++){\n",
        "        for(auto j = 0; j < m; j++)\n",
        "        {\n",
        "            mass[i * m + j] = rand() % 21 - 10;\n",
        "        }\n",
        "    }\n",
        "}\n",
        "void show(int* mass, int n, int m)\n",
        "{\n",
        "    for(auto i = 0; i < n; i++)\n",
        "    {\n",
        "        for (auto j = 0; j < m; j++)\n",
        "        {\n",
        "            std::cout << mass[i * m + j] << \" \";\n",
        "        }\n",
        "        std::cout << \"\\n\";\n",
        "    }\n",
        "    std::cout << \"\\n\";\n",
        "}\n",
        "\n",
        "int main()\n",
        "{\n",
        "    int *a, *b, *c;\n",
        "\n",
        "    int n = 2; int x = 4; //строки\n",
        "    int m = 4; int y = 2; //столбцы\n",
        "    \n",
        "    if (m != x) {\n",
        "      printf(\"ERROR SIZE\");\n",
        "      return 0;\n",
        "    }\n",
        " \n",
        "    cudaMallocManaged(&a,n * m * sizeof(int));\n",
        "    cudaMallocManaged(&b,x * y * sizeof(int));\n",
        "    cudaMallocManaged(&c,n * y * sizeof(int));\n",
        " \n",
        "    create(a, n, m);\n",
        "    create(b, x, y);\n",
        " \n",
        "    show(a, n, m);\n",
        "    show(b, x, y);\n",
        " \n",
        "    dev<<<n, m>>>(a, b, c, n, m);\n",
        "    cudaDeviceSynchronize();\n",
        "    \n",
        "    std::cout << \"\\n\";\n",
        "    show(c, n, y);\n",
        "    cudaFree (a);\n",
        "    cudaFree (b);\n",
        "    cudaFree (c);\n",
        "    return 0;\n",
        "}\n"
      ],
      "metadata": {
        "colab": {
          "base_uri": "https://localhost:8080/"
        },
        "id": "AA3MZza0aG8X",
        "outputId": "1e50a340-db52-4c4d-aa96-230119535ea7"
      },
      "execution_count": 5,
      "outputs": [
        {
          "output_type": "stream",
          "name": "stdout",
          "text": [
            "-9 -6 -1 9 \n",
            "-2 0 0 -1 \n",
            "\n",
            "5 0 \n",
            "-8 9 \n",
            "10 -6 \n",
            "10 -3 \n",
            "\n",
            "x = 0, dev = 83 \n",
            "x = 1, dev = -75 \n",
            "x = 2, dev = -20 \n",
            "x = 3, dev = 3 \n",
            "\n",
            "83 -75 \n",
            "-20 3 \n",
            "\n",
            "\n"
          ]
        }
      ]
    }
  ]
}